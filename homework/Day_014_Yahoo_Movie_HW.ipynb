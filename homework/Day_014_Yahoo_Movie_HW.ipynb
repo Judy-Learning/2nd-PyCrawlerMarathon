{
 "cells": [
  {
   "cell_type": "markdown",
   "metadata": {},
   "source": [
    "# YAHOO電影爬蟲練習\n",
    "## 練習爬取電影放映資訊。必須逐步獲取電影的代號、放映地區、放映日期後，再送出查詢給伺服器。"
   ]
  },
  {
   "cell_type": "code",
   "execution_count": 1,
   "metadata": {},
   "outputs": [],
   "source": [
    "import requests\n",
    "import re\n",
    "from bs4 import BeautifulSoup"
   ]
  },
  {
   "cell_type": "markdown",
   "metadata": {},
   "source": [
    "### 先搜尋全部的電影代號(ID)資訊"
   ]
  },
  {
   "cell_type": "code",
   "execution_count": 2,
   "metadata": {},
   "outputs": [
    {
     "name": "stdout",
     "output_type": "stream",
     "text": [
      "Movie: 導演先生的完美假期, ID: 10545\n",
      "Movie: 大地蜜語, ID: 10513\n",
      "Movie: 狂飆一夢, ID: 10506\n",
      "Movie: 親愛的莎瑪, ID: 10491\n",
      "Movie: 大畫特務, ID: 10478\n",
      "Movie: 戰慄糖果屋, ID: 10472\n",
      "Movie: 失戀殺人：三角禁戀, ID: 10465\n",
      "Movie: 明明會說話, ID: 10440\n",
      "Movie: 艾瑪, ID: 10396\n",
      "Movie: 罪樂園, ID: 10349\n",
      "Movie: 寄生上流：黑白版, ID: 10527\n",
      "Movie: 千日千夜, ID: 10490\n",
      "Movie: 咒怨2 電影版, ID: 10464\n",
      "Movie: 鳴鳥不飛：烏雲密布, ID: 10458\n",
      "Movie: 哥布林殺手 劇場版, ID: 10438\n",
      "Movie: 女鬼橋, ID: 10437\n",
      "Movie: 怨咒, ID: 10421\n",
      "Movie: 娘娘腔日記, ID: 10401\n",
      "Movie: 汪星人的奇幻漂流, ID: 10388\n",
      "Movie: 極地守護犬, ID: 10383\n",
      "Movie: 叔．叔, ID: 10371\n",
      "Movie: 隱形人, ID: 10359\n",
      "Movie: 失路人, ID: 10498\n",
      "Movie: 電影音效傳奇：好萊塢之聲, ID: 10484\n",
      "Movie: 悲慘世界, ID: 10479\n",
      "Movie: 吹哨奇案, ID: 10475\n",
      "Movie: 閃閃小超人電影版, ID: 10474\n",
      "Movie: 少年阿罕默德, ID: 10468\n",
      "Movie: 咒怨 電影版, ID: 10463\n",
      "Movie: 陰櫥, ID: 10457\n",
      "Movie: 絕命大平台, ID: 10447\n",
      "Movie: 李察朱威爾事件, ID: 10368\n",
      "Movie: 音速小子, ID: 9246\n",
      "Movie: 你好．愛．再見, ID: 10501\n",
      "Movie: 逃出夢幻島, ID: 10485\n",
      "Movie: 雨天．紐約, ID: 10476\n",
      "Movie: 殺不了的他與死不了的她, ID: 10467\n",
      "Movie: 失控少年兵團, ID: 10456\n",
      "Movie: 超＂人＂氣動物園, ID: 10445\n",
      "Movie: 就愛斷捨離, ID: 10436\n",
      "Movie: 愛情人形, ID: 10394\n",
      "Movie: 蜜蜂與遠雷, ID: 10419\n",
      "Movie: 電影版 輝夜姬想讓人告白～天才們的戀愛頭腦戰～, ID: 10405\n",
      "Movie: 古曼童, ID: 10399\n",
      "Movie: 猛禽小隊：小丑女大解放, ID: 10268\n",
      "Movie: 紅鞋公主與七矮人, ID: 10417\n",
      "Movie: 1917, ID: 10189\n",
      "Movie: 你的情歌, ID: 10407\n",
      "Movie: 紳士追殺令, ID: 10317\n",
      "Movie: 杜立德, ID: 10316\n",
      "Movie: 她們, ID: 10202\n",
      "Movie: 變身特務, ID: 9008\n",
      "Movie: 然後我們跳了舞, ID: 10451\n",
      "Movie: 巧虎電影：英雄遊樂園, ID: 10429\n",
      "Movie: 青春催落去, ID: 10404\n",
      "Movie: 絕地戰警FOR LIFE, ID: 10242\n",
      "Movie: 星星知我心, ID: 10409\n",
      "Movie: 逃出天堂島, ID: 10384\n",
      "Movie: 魯邦三世 The First, ID: 10355\n",
      "Movie: 別告訴她, ID: 10382\n",
      "Movie: 真愛裁會贏, ID: 10362\n",
      "Movie: 潛艦追緝, ID: 10333\n",
      "Movie: 霹靂嬌娃, ID: 10124\n",
      "Movie: CATS貓, ID: 10166\n",
      "Movie: 燃燒女子的畫像, ID: 10069\n",
      "Movie: STAR WARS : 天行者的崛起, ID: 10225\n",
      "Movie: 復仇母親, ID: 10392\n",
      "Movie: 8級警戒, ID: 10323\n",
      "Movie: 黑色聖誕節, ID: 10291\n",
      "Movie: 去年聖誕節, ID: 10256\n",
      "Movie: 野蠻遊戲：全面晉級, ID: 10134\n",
      "Movie: 寂寞診療室, ID: 10282\n",
      "Movie: 賽道狂人, ID: 10097\n",
      "Movie: 冰雪奇緣2, ID: 9597\n",
      "Movie: 萬萬沒想到, ID: 10281\n",
      "Movie: 救火奶爸, ID: 10164\n",
      "Movie: 決戰中途島, ID: 10130\n",
      "Movie: 魔鬼終結者：黑暗宿命, ID: 10067\n",
      "Movie: 絕鯊47：猛鯊出籠, ID: 10214\n",
      "Movie: 貓咪知道但是貓咪不說, ID: 10203\n",
      "Movie: 天氣之子, ID: 10091\n",
      "Movie: 寄生上流, ID: 10020\n",
      "Movie: 一首搖滾上月球, ID: 4887\n",
      "Movie: 錢不夠用2, ID: 3026\n"
     ]
    }
   ],
   "source": [
    "# 查看目前上映那些電影，並擷取出其ID資訊\n",
    "url = 'https://movies.yahoo.com.tw/'\n",
    "resp = requests.get(url)\n",
    "resp.encoding = 'utf-8'\n",
    "\n",
    "soup = BeautifulSoup(resp.text, 'lxml')\n",
    "html = soup.find(\"select\", attrs={'name':'movie_id'})\n",
    "movie_item = html.find_all(\"option\", attrs={'data-name':re.compile('.*')})\n",
    "\n",
    "for p in movie_item:\n",
    "    print(\"Movie: %s, ID: %s\" % (p[\"data-name\"], p[\"value\"]))"
   ]
  },
  {
   "cell_type": "markdown",
   "metadata": {},
   "source": [
    "### 指定你有興趣的電影其ID，然後查詢其放映地區資訊。"
   ]
  },
  {
   "cell_type": "code",
   "execution_count": 3,
   "metadata": {},
   "outputs": [],
   "source": [
    "# 參考前一個步驟中擷取到的ID資訊，並指定ID\n",
    "movie_id = 10169"
   ]
  },
  {
   "cell_type": "code",
   "execution_count": 4,
   "metadata": {},
   "outputs": [],
   "source": [
    "url = 'https://movies.yahoo.com.tw/api/v1/areas_by_movie_theater'\n",
    "payload = {'movie_id':str(movie_id)}\n",
    "\n",
    "# 模擬一個header\n",
    "headers = {\n",
    "    'authority': 'movies.yahoo.com.tw',\n",
    "    'method': 'GET',\n",
    "    'path': '/api/v1/areas_by_movie_theater?movie_id=' + str(movie_id),\n",
    "    'scheme': 'https',\n",
    "    'accept': 'application/json, text/javascript, */*; q=0.01',\n",
    "    'accept-encoding': 'gzip, deflate, br',\n",
    "    'accept-language': 'zh-TW,zh;q=0.9,en-US;q=0.8,en;q=0.7,zh-CN;q=0.6',\n",
    "    'cookie': 'rxx=9s3x2fws06.1g16irnc&v=1; _ga=GA1.3.2056742944.1551651301; GUC=AQEBAQFczFpdm0IfmwSB&s=AQAAACoo4N5D&g=XMsVBw; BX=4hkdk1decm57t&b=3&s=mr; _ga=GA1.4.2056742944.1551651301; nexagesuid=82843256dd234e8e91aa73f2062f8218; browsed_movie=eyJpdiI6IlJXWWtiSWJaZlNGK2MxQnhscnVUYWc9PSIsInZhbHVlIjoiMXRhMmVHRXRIeUNjc1RBWDJzdGYwbnlIQURmWGsrcjJSMzhkbkcraDNJVUNIZEZsbzU3amlFcVZ1NzlmazJrTGpoMjVrbHk1YmpoRENXaHZTOUw1TmI2ZTZVWHdOejZQZm16RmVuMWlHTTJLaTZLVFZZVkFOMDlTd1wvSGltcytJIiwibWFjIjoiZWQ2ZjA4MmVjZmZlYjlmNjJmYmY2NGMyMDI0Njc0NWViYjVkOWE2NDg0N2RhODMxZjBjZDhiMmJhZTc2MDZhYiJ9; avi=eyJpdiI6Im1NeWFJRlVRWDR1endEcGRGUGJUbVE9PSIsInZhbHVlIjoickRpU3JuUytmcGl6cjF5OW0rNU9iZz09IiwibWFjIjoiY2VmY2NkNzZmM2NhNjY5YzlkOTcyNjE5OGEyMzU0NWYxOTdmMDRkMDY3OWNmMmZjOTMxYjc5MjI5N2Q5NGE5MiJ9; cmp=t=1559391030&j=0; _gid=GA1.4.779543841.1559391031; XSRF-TOKEN=eyJpdiI6IkhpS2hGcDRQaHlmWUJmaHdSS2Q2bHc9PSIsInZhbHVlIjoiOUVoNFk4OHI1UUZmUWRtYXhza0MyWjJSTlhlZ3RnT0VGeVJPN2JuczVRMGRFdWt2OUlsamVKeHRobFwvcHBGM0dhU3VyMXNGTHlsb2dVM2l0U1hpUGxBPT0iLCJtYWMiOiJkZWU4YzJhNjAxMTY3MzE4Y2ExNWIxYmE1ZjE1YWZlZTlhOTcyYjc4M2RlZGY4ZWNjZDYyMTA2NGYwZGViMzc2In0%3D; m_s=eyJpdiI6InpsZHZ2Tk1BZ0dxaHhETml1RjBnUXc9PSIsInZhbHVlIjoiSkNGeHUranRoXC85bDFiaDhySTJqNkJRcWdjWUxjeVRJSHVYZ1wvd2d4bWJZUTUrSHVDM0lUcW5KNHdETFZ4T1lieU81OUhzc1VoUXhZcWk0UDZSQXVFdz09IiwibWFjIjoiYmJkMDJkMDhlODIzMzcyMWY4M2NmYWNjNGVlOWRjMDIwZmVmNzAyMjE3Yzg3ZGY3ODBkZWEzZTI4MTI5ZWNmOSJ9; _gat=1; nexagesd=10',\n",
    "    'dnt': '1',\n",
    "    'mv-authorization': '21835b082e15b91a69b3851eec7b31b82ce82afb',\n",
    "    'referer': 'https://movies.yahoo.com.tw/',\n",
    "    'user-agent': 'Mozilla/5.0 (Windows NT 10.0; Win64; x64) AppleWebKit/537.36 (KHTML, like Gecko) Chrome/74.0.3729.169 Safari/537.36',\n",
    "    'x-requested-with': 'XMLHttpRequest',\n",
    "}\n",
    "    \n",
    "resp = requests.get(url, params=payload, headers=headers)\n",
    "#print(resp.json())  # 若有需要，列印出json原始碼\n",
    "\n",
    "# 這裡回傳的格式是JSON格式的資料，要解析JSON擷取資料\n",
    "for p in resp.json():\n",
    "    print('放映地區: {0}, 代號(area_id): {1}'.format(p['title'], p['area_id']))"
   ]
  },
  {
   "cell_type": "markdown",
   "metadata": {},
   "source": [
    "### 指定你想要觀看的放映地區，查詢有上映電影的場次日期"
   ]
  },
  {
   "cell_type": "code",
   "execution_count": 5,
   "metadata": {},
   "outputs": [],
   "source": [
    "# 指定放映地區\n",
    "area_id = 28"
   ]
  },
  {
   "cell_type": "code",
   "execution_count": 6,
   "metadata": {},
   "outputs": [
    {
     "name": "stdout",
     "output_type": "stream",
     "text": [
      "三月 11\n",
      "三月 12\n",
      "三月 13\n",
      "三月 14\n",
      "三月 15\n"
     ]
    }
   ],
   "source": [
    "# 向網站發送請求\n",
    "url = 'https://movies.yahoo.com.tw/movietime_result.html'\n",
    "payload = {'movie_id':str(movie_id), 'area_id':str(area_id)}\n",
    "resp = requests.get(url, params=payload)\n",
    "resp.encoding = 'utf-8'\n",
    "\n",
    "soup = BeautifulSoup(resp.text, 'lxml')\n",
    "movie_date = soup.find_all(\"label\", attrs={'for':re.compile(\"date_[\\d]\")})\n",
    "\n",
    "# 列印播放日期\n",
    "for date in movie_date:\n",
    "    print(\"%s %s\" % (date.p.string, date.h3.string))"
   ]
  },
  {
   "cell_type": "markdown",
   "metadata": {},
   "source": [
    "### 最後指定觀看的日期，查詢並列印出放映的電影院、放映類型(數位、3D、IMAX 3D...)、放映時間等資訊。"
   ]
  },
  {
   "cell_type": "code",
   "execution_count": 7,
   "metadata": {},
   "outputs": [],
   "source": [
    "# 選定要觀看的日期\n",
    "date = \"2019-08-21\""
   ]
  },
  {
   "cell_type": "code",
   "execution_count": 8,
   "metadata": {},
   "outputs": [],
   "source": [
    "# 向網站發送請求，獲取上映的電影院及時間資訊\n",
    "url = \"https://movies.yahoo.com.tw/ajax/pc/get_schedule_by_movie\"\n",
    "payload = {'movie_id':str(movie_id),\n",
    "           'date':date,\n",
    "           'area_id':str(area_id),\n",
    "           'theater_id':'',\n",
    "           'datetime':'',\n",
    "           'movie_type_id':''}\n",
    "\n",
    "resp = requests.get(url, params=payload)\n",
    "#print(resp.json()['view'])  # 若有需要，列印出json原始碼\n",
    "\n",
    "soup = BeautifulSoup(resp.json()['view'], 'lxml')\n",
    "html = soup.find_all(\"ul\", attrs={'data-theater_name':re.compile(\".*\")})"
   ]
  },
  {
   "cell_type": "code",
   "execution_count": 16,
   "metadata": {},
   "outputs": [
    {
     "name": "stdout",
     "output_type": "stream",
     "text": [
      "----------------------------------------------------------------------\n",
      "電影院:  台北美麗華大直影城\n",
      "放映類型:  數位\n",
      "2019-08-21 09:00:00\n",
      "2019-08-21 11:10:00\n",
      "2019-08-21 13:15:00\n",
      "2019-08-21 15:20:00\n",
      "2019-08-21 19:30:00\n",
      "2019-08-21 21:40:00\n",
      "2019-08-21 22:30:00\n",
      "----------------------------------------------------------------------\n",
      "電影院:  台北新光影城\n",
      "放映類型:  數位\n",
      "2019-08-21 10:00:00\n",
      "2019-08-21 14:50:00\n",
      "2019-08-21 19:30:00\n",
      "----------------------------------------------------------------------\n",
      "電影院:  台北in89豪華數位影城\n",
      "放映類型:  數位\n",
      "2019-08-21 09:30:00\n",
      "2019-08-21 11:20:00\n",
      "2019-08-21 13:15:00\n",
      "2019-08-21 15:10:00\n",
      "2019-08-21 16:10:00\n",
      "2019-08-21 17:10:00\n",
      "2019-08-21 18:05:00\n",
      "2019-08-21 19:10:00\n",
      "2019-08-21 21:10:00\n",
      "2019-08-21 23:10:00\n",
      "2019-08-22 01:10:00\n",
      "----------------------------------------------------------------------\n",
      "電影院:  台北日新威秀影城\n",
      "放映類型:  數位\n",
      "2019-08-21 09:00:00\n",
      "2019-08-21 10:55:00\n",
      "2019-08-21 12:50:00\n",
      "2019-08-21 14:45:00\n",
      "2019-08-21 16:40:00\n",
      "2019-08-21 18:35:00\n",
      "2019-08-21 20:35:00\n",
      "----------------------------------------------------------------------\n",
      "電影院:  喜滿客絕色影城\n",
      "放映類型:  數位\n",
      "2019-08-21 10:00:00\n",
      "2019-08-21 11:55:00\n",
      "2019-08-21 13:50:00\n",
      "2019-08-21 15:45:00\n",
      "2019-08-21 17:40:00\n",
      "2019-08-21 19:35:00\n",
      "2019-08-21 21:30:00\n",
      "----------------------------------------------------------------------\n",
      "電影院:  台北信義威秀影城\n",
      "放映類型:  數位\n",
      "2019-08-21 09:00:00\n",
      "2019-08-21 11:00:00\n",
      "2019-08-21 13:00:00\n",
      "2019-08-21 15:00:00\n",
      "2019-08-21 17:00:00\n",
      "2019-08-21 19:00:00\n",
      "2019-08-21 21:00:00\n",
      "2019-08-21 23:00:00\n",
      "----------------------------------------------------------------------\n",
      "電影院:  喜滿客京華影城\n",
      "放映類型:  數位\n",
      "2019-08-21 10:30:00\n",
      "2019-08-21 12:30:00\n",
      "2019-08-21 14:30:00\n",
      "2019-08-21 16:30:00\n",
      "2019-08-21 18:30:00\n",
      "2019-08-21 20:30:00\n",
      "2019-08-21 22:30:00\n",
      "----------------------------------------------------------------------\n",
      "電影院:  京站威秀影城\n",
      "放映類型:  數位\n",
      "2019-08-21 09:00:00\n",
      "2019-08-21 11:00:00\n",
      "2019-08-21 13:00:00\n",
      "2019-08-21 15:00:00\n",
      "2019-08-21 17:00:00\n",
      "2019-08-21 19:00:00\n",
      "2019-08-21 21:00:00\n",
      "----------------------------------------------------------------------\n",
      "電影院:  喜樂時代影城南港店\n",
      "放映類型:  數位\n",
      "2019-08-21 10:20:00\n",
      "2019-08-21 11:10:00\n",
      "2019-08-21 12:20:00\n",
      "2019-08-21 13:10:00\n",
      "2019-08-21 14:20:00\n",
      "2019-08-21 15:10:00\n",
      "2019-08-21 16:20:00\n",
      "2019-08-21 17:10:00\n",
      "2019-08-21 18:20:00\n",
      "2019-08-21 19:15:00\n",
      "2019-08-21 20:20:00\n",
      "2019-08-21 21:15:00\n",
      "2019-08-21 22:20:00\n"
     ]
    }
   ],
   "source": [
    "'''\n",
    "\n",
    "  試著從上一步驟回傳的電影院資料中，擷取電影院名稱、影片放映類型以及時間表\n",
    "  \n",
    "  Your code here.\n",
    "\n",
    "'''\n"
   ]
  },
  {
   "cell_type": "code",
   "execution_count": null,
   "metadata": {},
   "outputs": [],
   "source": []
  }
 ],
 "metadata": {
  "kernelspec": {
   "display_name": "Python 3",
   "language": "python",
   "name": "python3"
  },
  "language_info": {
   "codemirror_mode": {
    "name": "ipython",
    "version": 3
   },
   "file_extension": ".py",
   "mimetype": "text/x-python",
   "name": "python",
   "nbconvert_exporter": "python",
   "pygments_lexer": "ipython3",
   "version": "3.7.3"
  }
 },
 "nbformat": 4,
 "nbformat_minor": 2
}
