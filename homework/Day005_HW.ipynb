{
 "cells": [
  {
   "cell_type": "markdown",
   "metadata": {},
   "source": [
    "# API 資料串接 - 以 Dcard API 實作範例\n",
    "\n",
    "* 了解 Dcard API 使用方式與回傳內容\n",
    "* 撰寫程式存取 API 且解析 JSON 格式資料\n"
   ]
  },
  {
   "cell_type": "markdown",
   "metadata": {},
   "source": [
    "## 作業目標\n",
    "\n",
    "* 請利用 API: https://www.dcard.tw/_api/forums/pet/posts?popular=true 回答下列問題：\n",
    "\n",
    "1. 這個 API 一次會回傳幾筆資料？每一筆資料包含哪些欄位？\n",
    "2. 取出每一筆資料的「標題」、「貼文時間」、「留言人數」、「按讚人數」\n",
    "3. 計算熱門/非熱門文章的「平均留言人數」與「平均按讚人數」"
   ]
  },
  {
   "cell_type": "code",
   "execution_count": 1,
   "metadata": {},
   "outputs": [
    {
     "name": "stdout",
     "output_type": "stream",
     "text": [
      "這個 API 一次會回傳 30 筆資料.\n",
      "\n",
      "每一筆資料包含:\n",
      "id\n",
      "title\n",
      "excerpt\n",
      "anonymousSchool\n",
      "anonymousDepartment\n",
      "pinned\n",
      "forumId\n",
      "replyId\n",
      "createdAt\n",
      "updatedAt\n",
      "commentCount\n",
      "likeCount\n",
      "withNickname\n",
      "tags\n",
      "topics\n",
      "meta\n",
      "forumName\n",
      "forumAlias\n",
      "gender\n",
      "school\n",
      "replyTitle\n",
      "mediaMeta\n",
      "reactions\n",
      "hidden\n",
      "customStyle\n",
      "isSuspiciousAccount\n",
      "layout\n",
      "withImages\n",
      "withVideos\n",
      "media\n",
      "reportReasonText\n",
      "postAvatar\n",
      "共 32 個欄位.\n"
     ]
    }
   ],
   "source": [
    "# 1. 這個 API 一次會回傳幾筆資料？每一筆資料包含哪些欄位？\n",
    "\n",
    "'''\n",
    "Your Code\n",
    "'''\n",
    "import requests\n",
    "r = requests.get('https://www.dcard.tw/_api/forums/pet/posts?popular=true')\n",
    "response = r.text\n",
    "\n",
    "import json\n",
    "data = json.loads(response)\n",
    "data\n",
    "\n",
    "print('這個 API 一次會回傳', len(data), '筆資料.\\n')\n",
    "\n",
    "fields = data[0].keys()\n",
    "print('每一筆資料包含:')\n",
    "for field in fields:\n",
    "    print(field)\n",
    "print('共',len(fields),'個欄位.')\n"
   ]
  },
  {
   "cell_type": "code",
   "execution_count": 2,
   "metadata": {},
   "outputs": [
    {
     "name": "stdout",
     "output_type": "stream",
     "text": [
      "文長 我擁有全世界最棒的貓咪 2020-02-27T23:47:16.852Z 11 301\n",
      "曬照🐿️ 2020-02-28T03:46:37.460Z 7 184\n",
      "三腳黑妞；救援孕狗不是件容易的事 2020-02-28T04:16:05.721Z 4 137\n",
      "求這篇限時的貓咪 2020-02-28T06:23:06.364Z 3 114\n",
      "所以說到底是什麼生物呢 2020-02-28T06:28:07.294Z 3 109\n",
      "朕想怎麼睡 就怎麼睡(˶‾᷄ ⁻̫ ‾᷅˵) 2020-02-27T19:53:48.404Z 2 72\n",
      "來曬一下家裡的黑狗🐶 2020-02-27T21:10:15.772Z 7 60\n",
      "柯基犬曬萌照 2020-02-28T04:37:56.515Z 0 29\n",
      "我只是想打個哈欠🥱 2020-02-28T16:44:58.714Z 3 22\n",
      "同學我要妮的貓貓！！！ 2020-02-28T07:26:54.480Z 3 21\n",
      "家有兩隻貓(⌯͒⁍̩̩᷄ ɪ ⁍̩̩᷄ฅ͒) 2020-02-28T16:04:47.921Z 1 18\n",
      "#圖 酒醉大鼠 2020-02-28T08:49:27.019Z 2 17\n",
      "看那顫抖的小眼眶 2020-02-27T22:52:19.976Z 4 17\n",
      "懇請大家協尋狗小孩 2020-02-28T08:09:39.155Z 1 16\n",
      "最chill的邊境 2020-02-29T01:18:56.165Z 1 14\n",
      "純粹想曬曬我家柯基🐶 2020-02-29T03:59:09.926Z 2 12\n",
      "戲精貓-瞳孔放大片篇 2020-02-28T05:13:43.720Z 0 12\n",
      "這位同學！請交出你的貓！ 2020-02-28T18:50:36.643Z 3 11\n",
      "#問 野生鼠會跟寵物鼠有共鳴嗎？ 2020-02-28T15:39:29.606Z 3 9\n",
      "蛇板？（有關掉預覽 2020-02-28T17:20:29.630Z 2 8\n",
      "雖然不是第一次，但還是很緊張的假新手 2020-02-28T15:27:26.396Z 0 8\n",
      "尋狗 新莊夜市走丟的 2020-02-28T02:57:24.261Z 0 8\n",
      "問 狗狗品種 2020-02-29T03:03:15.315Z 4 7\n",
      "#找主人  朝陽科大7-11附近走失貓 2020-02-28T12:43:11.635Z 0 7\n",
      "感覺是走失的狗狗🐕（？） 2020-02-28T10:27:25.209Z 3 7\n",
      "賓士貓送養 已結紮&預防針 2020-02-29T03:06:56.553Z 3 6\n",
      "貓一出門就大叫 2020-02-28T07:19:23.699Z 2 6\n",
      "被野貓咬要去打狂犬疫苗嗎 2020-02-28T07:00:46.555Z 2 6\n",
      "#圖#影小柴→大柴 2020-02-28T17:16:37.117Z 0 5\n",
      "浪浪愛撒嬌❤️ 2020-02-28T15:08:46.506Z 0 5\n"
     ]
    }
   ],
   "source": [
    "# 2. 取出每一筆資料的「標題」、「貼文時間」、「留言人數」、「按讚人數」\n",
    "\n",
    "'''\n",
    "Your Code\n",
    "'''\n",
    "for d in data:\n",
    "    print(d['title'], d['createdAt'], d['commentCount'], d['likeCount'])"
   ]
  },
  {
   "cell_type": "code",
   "execution_count": 4,
   "metadata": {},
   "outputs": [
    {
     "name": "stdout",
     "output_type": "stream",
     "text": [
      "  熱門文章共 30 筆, 平均留言人數有 2.533333333333333 筆, 平均按讚人數有 41.6 筆.\n",
      "非熱門文章共 30 筆, 平均留言人數有 1.6333333333333333 筆, 平均按讚人數有 3.8666666666666667 筆.\n"
     ]
    }
   ],
   "source": [
    "# 3. 計算熱門/非熱門文章的「平均留言人數」與「平均按讚人數」\n",
    "\n",
    "'''\n",
    "Your Code\n",
    "'''\n",
    "# popular\n",
    "r = requests.get('https://www.dcard.tw/_api/forums/pet/posts?popular=true')\n",
    "data = json.loads(r.text)\n",
    "ttl_commentCount=0\n",
    "ttl_likeCount=0\n",
    "for d in data:\n",
    "    ttl_commentCount=ttl_commentCount+d['commentCount']\n",
    "    ttl_likeCount=ttl_likeCount+d['likeCount']\n",
    "\n",
    "print('  熱門文章共', len(data), '筆,', \n",
    "      '平均留言人數有', ttl_commentCount/len(data), '筆,',\n",
    "      '平均按讚人數有', ttl_likeCount/len(data), '筆.')\n",
    "\n",
    "\n",
    "# nonpopular\n",
    "r = requests.get('https://www.dcard.tw/_api/forums/pet/posts?popular=false')\n",
    "data = json.loads(r.text)\n",
    "ttl_commentCount=0\n",
    "ttl_likeCount=0\n",
    "for d in data:\n",
    "    ttl_commentCount=ttl_commentCount+d['commentCount']\n",
    "    ttl_likeCount=ttl_likeCount+d['likeCount']\n",
    "\n",
    "print('非熱門文章共', len(data), '筆,', \n",
    "      '平均留言人數有', ttl_commentCount/len(data), '筆,',\n",
    "      '平均按讚人數有', ttl_likeCount/len(data), '筆.')\n"
   ]
  },
  {
   "cell_type": "code",
   "execution_count": null,
   "metadata": {},
   "outputs": [],
   "source": []
  },
  {
   "cell_type": "code",
   "execution_count": null,
   "metadata": {},
   "outputs": [],
   "source": []
  }
 ],
 "metadata": {
  "kernelspec": {
   "display_name": "Python 3",
   "language": "python",
   "name": "python3"
  },
  "language_info": {
   "codemirror_mode": {
    "name": "ipython",
    "version": 3
   },
   "file_extension": ".py",
   "mimetype": "text/x-python",
   "name": "python",
   "nbconvert_exporter": "python",
   "pygments_lexer": "ipython3",
   "version": "3.7.3"
  }
 },
 "nbformat": 4,
 "nbformat_minor": 2
}
