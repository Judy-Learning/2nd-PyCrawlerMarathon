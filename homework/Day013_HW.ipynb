{
 "cells": [
  {
   "cell_type": "markdown",
   "metadata": {},
   "source": [
    "# PTT 網路爬蟲實作練習\n",
    "\n",
    "\n",
    "* 能夠利用 Request + BeatifulSour 撰寫爬蟲，並存放到合適的資料結構\n"
   ]
  },
  {
   "cell_type": "markdown",
   "metadata": {},
   "source": [
    "## 作業目標\n",
    "\n",
    "根據範例 ，完成以下問題：\n",
    "\n",
    "* ① 印出最新文章的「作者」「標題」「時間」\n",
    "* ② 印出第一頁所有文章的「作者」「標題」「時間」\n"
   ]
  },
  {
   "cell_type": "markdown",
   "metadata": {},
   "source": [
    "### ① 印出最新文章的「作者」「標題」「時間」"
   ]
  },
  {
   "cell_type": "code",
   "execution_count": 1,
   "metadata": {},
   "outputs": [
    {
     "name": "stdout",
     "output_type": "stream",
     "text": [
      "作者 :  jfs (jfs)\n",
      "標題 :  Re: [討論] 勇士是殞落最快的超強球隊嗎?\n",
      "時間 :  Wed Mar 11 15:12:03 2020\n",
      "作者 :  dro001 (風雲)\n",
      "標題 :  [外絮] 現役球員目前沒有0輪過的\n",
      "時間 :  Wed Mar 11 15:25:53 2020\n",
      "作者 :  fukawa947 (交大薛之謙)\n",
      "標題 :  [新聞] 鵜鶘狀元太罩　球哥認證的好隊友：跟他\n",
      "時間 :  Wed Mar 11 15:33:12 2020\n",
      "作者 :  qazwsx879345 (Rajon Rondo)\n",
      "標題 :  [公告] 版主上任相關事項\n",
      "時間 :  Fri Oct 25 10:44:03 2019\n",
      "作者 :  Acetoxy (阿斯)\n",
      "標題 :  [情報] SEASON Schedule 賽程 March 19–20\n",
      "時間 :  Mon Mar  2 01:19:40 2020\n",
      "作者 :  Vedan (味丹)\n",
      "標題 :  Fw: [公告] 即日起開放 NTU 信箱註冊帳號\n",
      "時間 :  Wed Mar  4 12:50:19 2020\n",
      "作者 :  Vedan (味丹)\n",
      "標題 :  [公告] 第一次被退文，可在三天後刪除退文\n",
      "時間 :  Mon Mar  9 11:44:26 2020\n"
     ]
    }
   ],
   "source": [
    "'''\n",
    "Your Code\n",
    "'''\n",
    "import requests\n",
    "from bs4 import BeautifulSoup\n",
    "\n",
    "url = 'https://www.ptt.cc/bbs/NBA/index.html'  #最新\n",
    "r = requests.get(url)\n",
    "soup = BeautifulSoup(r.text, \"html5lib\")\n",
    "\n",
    "for d in soup.find_all(class_=\"title\"):\n",
    "    try:\n",
    "        soup2 = BeautifulSoup(requests.get('https://www.ptt.cc'+d.find('a')['href']).text, \"html5lib\")\n",
    "        info = soup2.find(class_='bbs-screen bbs-content').find_all(class_='article-metaline')\n",
    "        for d2 in info:\n",
    "            print(d2.find(class_='article-meta-tag').text,': ',d2.find(class_='article-meta-value').text)\n",
    "    except:\n",
    "        continue\n"
   ]
  },
  {
   "cell_type": "markdown",
   "metadata": {},
   "source": [
    "### ② 印出第一頁所有文章的「作者」「標題」「時間」"
   ]
  },
  {
   "cell_type": "code",
   "execution_count": 2,
   "metadata": {},
   "outputs": [
    {
     "name": "stdout",
     "output_type": "stream",
     "text": [
      "作者 :  Price (Price)\n",
      "標題 :  [轉錄]Lyotard 對於太陽板討論串的結論\n",
      "時間 :  Sun May 16 01:54:33 2004\n",
      "作者 :  Price (Price)\n",
      "標題 :  [公告] 請停止一切關於本次活動的發言\n",
      "時間 :  Mon May 24 00:43:00 2004\n",
      "作者 :  Frankaze (神采風華)\n",
      "標題 :  [轉錄]跟之前那篇比起來 我覺得這篇也應該轉過來\n",
      "時間 :  Tue Jun  8 01:16:45 2004\n",
      "作者 :  Frankaze (神采風華)\n",
      "標題 :  [轉錄]再轉一篇好文來\n",
      "時間 :  Tue Jun  8 09:02:23 2004\n",
      "作者 :  Price (Price)\n",
      "標題 :  [轉錄][情報] 夏洛特山貓系列\n",
      "時間 :  Thu Jun 10 00:39:35 2004\n",
      "作者 :  Price (Price)\n",
      "標題 :  [轉錄]Re: [心得] 真是受不了糗爺....\n",
      "時間 :  Thu Jun 10 00:51:35 2004\n",
      "作者 :  Price (Price)\n",
      "標題 :  [轉錄]總冠軍賽NO.2觀後感\n",
      "時間 :  Thu Jun 10 12:05:07 2004\n",
      "作者 :  AmuroNamie (原來太嗨真的會失眠^___^)\n",
      "標題 :  [心得] Rasheed Wallace\n",
      "時間 :  Fri Jun 11 15:06:09 2004\n",
      "作者 :  toptree (  )\n",
      "標題 :  掌控球賽的男人\n",
      "時間 :  Sat Jun 12 07:13:04 2004\n",
      "作者 :  skchang (3EB板開板囉！)\n",
      "標題 :  [閒聊] 說說2004季後賽名場面回顧\n",
      "時間 :  Sat Jun 12 13:21:49 2004\n",
      "作者 :  shineup ()\n",
      "標題 :  [心得] 其實說穿了 就是活塞的防守太可怕了\n",
      "時間 :  Sat Jun 12 13:12:47 2004\n",
      "作者 :  cOvi (喵~)\n",
      "標題 :  Re: [閒聊] 說說2004季後賽名場面回顧\n",
      "時間 :  Sat Jun 12 16:43:07 2004\n",
      "作者 :  ykshih (￼N￼Ns)\n",
      "標題 :  Re: [閒聊] 說說2004季後賽名場面回顧\n",
      "時間 :  Sat Jun 12 17:26:37 2004\n",
      "作者 :  Frankaze (神采風華)\n",
      "標題 :  Re: [閒聊] 說說2004季後賽名場面回顧\n",
      "時間 :  Sat Jun 12 18:34:46 2004\n",
      "作者 :  Price (Price)\n",
      "標題 :  [轉錄]Re: 總冠軍賽NO.3觀後感\n",
      "時間 :  Mon Jun 14 02:18:52 2004\n",
      "作者 :  Frankaze (神采風華)\n",
      "標題 :  [轉錄]Re: 總冠軍賽NO.3觀後感\n",
      "時間 :  Mon Jun 14 02:34:33 2004\n",
      "作者 :  star1 (第一次魔術表演不算成功)\n",
      "標題 :  Re: [轉錄]Re: 總冠軍賽NO.3觀後感\n",
      "時間 :  Mon Jun 14 07:16:30 2004\n",
      "作者 :  coldspring (笑笑)\n",
      "標題 :  Re: [轉錄]Re: 總冠軍賽NO.3觀後感\n",
      "時間 :  Mon Jun 14 09:24:57 2004\n",
      "作者 :  airbear (地圖)\n",
      "標題 :  Re: Kobe is frustrated...\n",
      "時間 :  Mon Jun 14 12:56:14 2004\n",
      "作者 :  pennykidd (andre)\n",
      "標題 :  Re: [轉錄]Re: 總冠軍賽NO.3觀後感\n",
      "時間 :  Mon Jun 14 22:07:01 2004\n"
     ]
    }
   ],
   "source": [
    "'''\n",
    "Your Code\n",
    "'''\n",
    "url = 'https://www.ptt.cc/bbs/NBA/index1.html' #第一頁\n",
    "r = requests.get(url)\n",
    "soup = BeautifulSoup(r.text, \"html5lib\")\n",
    "\n",
    "for d in soup.find_all(class_=\"title\"):\n",
    "    try:\n",
    "        soup2 = BeautifulSoup(requests.get('https://www.ptt.cc'+d.find('a')['href']).text, \"html5lib\")\n",
    "        info = soup2.find(class_='bbs-screen bbs-content').find_all(class_='article-metaline')\n",
    "        for d2 in info:\n",
    "            print(d2.find(class_='article-meta-tag').text,': ',d2.find(class_='article-meta-value').text)\n",
    "    except:\n",
    "        continue\n"
   ]
  },
  {
   "cell_type": "markdown",
   "metadata": {},
   "source": [
    "### ③ 試著爬爬看其他版的文章"
   ]
  },
  {
   "cell_type": "code",
   "execution_count": 4,
   "metadata": {},
   "outputs": [
    {
     "name": "stdout",
     "output_type": "stream",
     "text": [
      "作者 :  Abre (Баба-яга)\n",
      "標題 :  [新聞] 中國紅十字會擬向意大利派遣專家支援抗疫\n",
      "時間 :  Wed Mar 11 14:33:06 2020\n",
      "作者 :  whkuo (跟他認真你就輸了)\n",
      "標題 :  [討論] 可以捐錢請政府再增產口罩嗎？\n",
      "時間 :  Wed Mar 11 14:39:56 2020\n",
      "作者 :  iamshana (CANINE力集中在一些重要S)\n",
      "標題 :  [新聞] 武漢肺炎／布口罩12日起開放出口 助海外\n",
      "時間 :  Wed Mar 11 15:04:36 2020\n",
      "作者 :  liu270990 (木o下o大o王)\n",
      "標題 :  Re: [新聞] 知情家屬：登機前就準備好300件\n",
      "時間 :  Wed Mar 11 15:08:22 2020\n",
      "作者 :  cm1241 (cm1241)\n",
      "標題 :  [新聞] 赴武漢接人醫護忍10小時不吃不喝不拉 返\n",
      "時間 :  Wed Mar 11 15:18:17 2020\n",
      "作者 :  DoncicInPTT (東七七玩批踢踢)\n",
      "標題 :  Re: [新聞] 知情家屬：登機前就準備好300件\n",
      "時間 :  Wed Mar 11 15:25:16 2020\n",
      "作者 :  skyhawkptt (skyhawk)\n",
      "標題 :  [新聞] 以色列防武漢肺炎 所有海外入境者須自主\n",
      "時間 :  Wed Mar 11 15:36:26 2020\n",
      "作者 :  coffee777 (小賴)\n",
      "標題 :  [情報] 武漢肺炎全球病例即時戰情儀表版\n",
      "時間 :  Sun Jan 26 10:25:38 2020\n",
      "作者 :  WineVault (知客僧)\n",
      "標題 :  [公告] 板規更新（新增推文規範、政治引戰罰則）\n",
      "時間 :  Fri Feb  7 13:43:05 2020\n",
      "作者 :  flyingwhale (idk)\n",
      "標題 :  [公告] 板上重要參考資訊彙整\n",
      "時間 :  Mon Feb 17 13:45:56 2020\n"
     ]
    }
   ],
   "source": [
    "'''\n",
    "Your Code\n",
    "'''\n",
    "url = 'https://www.ptt.cc/bbs/nCoV2019/index.html'  #CoV2019最新\n",
    "r = requests.get(url)\n",
    "soup = BeautifulSoup(r.text, \"html5lib\")\n",
    "\n",
    "for d in soup.find_all(class_=\"title\"):\n",
    "    try:\n",
    "        soup2 = BeautifulSoup(requests.get('https://www.ptt.cc'+d.find('a')['href']).text, \"html5lib\")\n",
    "        info = soup2.find(class_='bbs-screen bbs-content').find_all(class_='article-metaline')\n",
    "        for d2 in info:\n",
    "            print(d2.find(class_='article-meta-tag').text,': ',d2.find(class_='article-meta-value').text)\n",
    "    except:\n",
    "        continue\n"
   ]
  },
  {
   "cell_type": "code",
   "execution_count": null,
   "metadata": {},
   "outputs": [],
   "source": []
  }
 ],
 "metadata": {
  "kernelspec": {
   "display_name": "Python 3",
   "language": "python",
   "name": "python3"
  },
  "language_info": {
   "codemirror_mode": {
    "name": "ipython",
    "version": 3
   },
   "file_extension": ".py",
   "mimetype": "text/x-python",
   "name": "python",
   "nbconvert_exporter": "python",
   "pygments_lexer": "ipython3",
   "version": "3.7.3"
  }
 },
 "nbformat": 4,
 "nbformat_minor": 2
}
