{
 "cells": [
  {
   "cell_type": "markdown",
   "metadata": {},
   "source": [
    "# API 資料串接 - 以 Dcard API 實作範例\n",
    "\n",
    "* 了解 Dcard API 使用方式與回傳內容\n",
    "* 撰寫程式存取 API 且解析 JSON 格式資料\n"
   ]
  },
  {
   "cell_type": "markdown",
   "metadata": {},
   "source": [
    "## 作業目標\n",
    "\n",
    "* 請利用 API: https://www.dcard.tw/_api/forums/pet/posts?popular=true 回答下列問題：\n",
    "\n",
    "1. 這個 API 一次會回傳幾筆資料？每一筆資料包含哪些欄位？\n",
    "2. 取出每一筆資料的「標題」、「貼文時間」、「留言人數」、「按讚人數」\n",
    "3. 計算熱門/非熱門文章的「平均留言人數」與「平均按讚人數」"
   ]
  },
  {
   "cell_type": "code",
   "execution_count": 1,
   "metadata": {},
   "outputs": [
    {
     "name": "stdout",
     "output_type": "stream",
     "text": [
      "30\n"
     ]
    }
   ],
   "source": [
    "# 1. 這個 API 一次會回傳幾筆資料？每一筆資料包含哪些欄位？\n",
    "\n",
    "import requests\n",
    "r = requests.get('https://www.dcard.tw/_api/forums/job/posts?popular=true')\n",
    "response = r.text\n",
    "\n",
    "import json\n",
    "data = json.loads(response)\n",
    "\n",
    "print(len(data))"
   ]
  },
  {
   "cell_type": "code",
   "execution_count": 2,
   "metadata": {},
   "outputs": [
    {
     "name": "stdout",
     "output_type": "stream",
     "text": [
      "<請先點我> 工作板＆實習、打工職缺刊登說明\n",
      "2017-01-01T06:27:39.650Z\n",
      "34\n",
      "658\n",
      "快過年才被資遣⋯\n",
      "2019-11-26T04:13:35.983Z\n",
      "30\n",
      "48\n",
      "理想的工作不理想的自己\n",
      "2019-11-27T02:18:40.803Z\n",
      "7\n",
      "27\n",
      "為了錢而低頭真的好難啊\n",
      "2019-11-26T18:33:51.229Z\n",
      "7\n",
      "27\n",
      "請問大家會願意回原來的地方上班嗎\n",
      "2019-11-26T13:24:45.299Z\n",
      "11\n",
      "13\n",
      "2020 Google business & MBA intern 二階筆試請益\n",
      "2019-11-26T15:55:20.072Z\n",
      "3\n",
      "12\n",
      "關於工作line群組 凌晨訊息不回真的很沒禮貌嗎\n",
      "2019-11-27T01:07:47.908Z\n",
      "20\n",
      "10\n",
      "咖啡作業流程詢問\n",
      "2019-11-27T03:51:09.770Z\n",
      "13\n",
      "7\n",
      "空服語音讀書會 徵新夥伴\n",
      "2019-11-27T02:55:50.067Z\n",
      "3\n",
      "7\n",
      "\bUNIQLO全球儲備菁英\n",
      "2019-11-26T17:54:02.575Z\n",
      "1\n",
      "7\n",
      "#職缺分享 科林助聽器飛鷹計畫\n",
      "2019-11-26T14:53:54.415Z\n",
      "1\n",
      "7\n",
      "#實習心得分享 我在綠藤生機的這幾個月\n",
      "2019-11-27T09:32:48.777Z\n",
      "0\n",
      "6\n",
      "大家有遇過很雷的同事嗎？\n",
      "2019-11-27T08:17:45.832Z\n",
      "6\n",
      "6\n",
      "#問 實習面試履歷表\n",
      "2019-11-26T14:48:38.707Z\n",
      "5\n",
      "6\n",
      "2019華信時薪地勤招募（台北站）\n",
      "2019-11-27T09:38:18.345Z\n",
      "0\n",
      "5\n",
      "#詢問 目前正職網拍在考慮要不要轉為兼職\n",
      "2019-11-27T07:49:53.452Z\n",
      "13\n",
      "5\n",
      "制度改變\n",
      "2019-11-27T04:49:08.514Z\n",
      "12\n",
      "5\n",
      "幫男友找工作\n",
      "2019-11-27T03:44:15.575Z\n",
      "9\n",
      "5\n",
      "派遣工作大家會選擇去嗎？\n",
      "2019-11-27T03:13:47.625Z\n",
      "2\n",
      "5\n",
      "新鮮人要選大公司或小公司？（拜託給個意見）\n",
      "2019-11-27T01:27:50.323Z\n",
      "16\n",
      "5\n",
      "工作的條件你會怎麼考量？\n",
      "2019-11-27T10:51:21.194Z\n",
      "12\n",
      "4\n",
      "遣散費\n",
      "2019-11-27T04:02:12.206Z\n",
      "7\n",
      "4\n",
      "還在員工訓練 就想辭職了\n",
      "2019-11-26T18:48:13.116Z\n",
      "3\n",
      "4\n",
      "莫名其妙的職務變動？\n",
      "2019-11-26T15:56:03.651Z\n",
      "2\n",
      "4\n",
      "大家都怎麼和同事相處\n",
      "2019-11-26T15:28:18.189Z\n",
      "4\n",
      "4\n",
      "四大會計師事務所年終獎金\n",
      "2019-11-26T10:20:25.628Z\n",
      "7\n",
      "4\n",
      "陽信銀行 永豐銀行正職\n",
      "2019-11-26T08:56:16.778Z\n",
      "7\n",
      "4\n",
      "日商與日本打工換宿抉擇\n",
      "2019-11-27T07:37:40.715Z\n",
      "9\n",
      "3\n",
      "非本科系如何寫自傳\n",
      "2019-11-27T03:54:41.532Z\n",
      "6\n",
      "3\n",
      "被晃點過還會再去嗎\n",
      "2019-11-26T13:34:49.417Z\n",
      "5\n",
      "3\n"
     ]
    }
   ],
   "source": [
    "# 2. 取出每一筆資料的「標題」、「貼文時間」、「留言人數」、「按讚人數」\n",
    "\n",
    "for d in data:\n",
    "    print(d['title'])\n",
    "    print(d['createdAt'])\n",
    "    print(d['commentCount'])\n",
    "    print(d['likeCount'])"
   ]
  },
  {
   "cell_type": "code",
   "execution_count": 4,
   "metadata": {},
   "outputs": [
    {
     "name": "stdout",
     "output_type": "stream",
     "text": [
      "8.5 30.266666666666666\n",
      "2.8666666666666667 1.4333333333333333\n"
     ]
    }
   ],
   "source": [
    "# 3. 計算熱門/非熱門文章的「平均留言人數」與「平均按讚人數」\n",
    "\n",
    "commentCount = 0\n",
    "likeCount = 0\n",
    "for d in data:\n",
    "    commentCount += d['commentCount']\n",
    "    likeCount += d['likeCount']\n",
    "\n",
    "print(commentCount/len(data), likeCount/len(data))\n",
    "\n",
    "r = requests.get('https://www.dcard.tw/_api/forums/job/posts?popular=false')\n",
    "response = r.text\n",
    "data = json.loads(response)\n",
    "commentCount = 0\n",
    "likeCount = 0\n",
    "for d in data:\n",
    "    commentCount += d['commentCount']\n",
    "    likeCount += d['likeCount']\n",
    "\n",
    "print(commentCount/len(data), likeCount/len(data))\n",
    "    "
   ]
  },
  {
   "cell_type": "code",
   "execution_count": null,
   "metadata": {},
   "outputs": [],
   "source": []
  }
 ],
 "metadata": {
  "kernelspec": {
   "display_name": "Python 3",
   "language": "python",
   "name": "python3"
  },
  "language_info": {
   "codemirror_mode": {
    "name": "ipython",
    "version": 3
   },
   "file_extension": ".py",
   "mimetype": "text/x-python",
   "name": "python",
   "nbconvert_exporter": "python",
   "pygments_lexer": "ipython3",
   "version": "3.6.5"
  }
 },
 "nbformat": 4,
 "nbformat_minor": 2
}
