{
 "cells": [
  {
   "cell_type": "markdown",
   "metadata": {
    "colab_type": "text",
    "id": "IX8KUwndVkg2"
   },
   "source": [
    "# 反爬：代理伺服器/IP\n",
    "\n",
    "* 了解「IP 黑/白名單」的反爬蟲機制\n",
    "* 「IP 黑/白名單」反爬蟲的因應策略"
   ]
  },
  {
   "cell_type": "markdown",
   "metadata": {
    "colab_type": "text",
    "id": "DP-sCoO2Vkg5"
   },
   "source": [
    "## 作業目標\n",
    "\n",
    "* 目前程式中的 proxy_ips 是手動輸入的，請根據 https://free-proxy-list.net/ 寫一個可自動化抓取可用 Proxy 的 proxy_ips。\n",
    "\n",
    "\n"
   ]
  },
  {
   "cell_type": "code",
   "execution_count": 1,
   "metadata": {
    "colab": {},
    "colab_type": "code",
    "id": "Tcn5GfmLVkg5"
   },
   "outputs": [],
   "source": [
    "from bs4 import BeautifulSoup\n",
    "import requests\n",
    "import random"
   ]
  },
  {
   "cell_type": "code",
   "execution_count": 2,
   "metadata": {},
   "outputs": [
    {
     "name": "stdout",
     "output_type": "stream",
     "text": [
      "['201.76.11.140:31181', '5.39.101.15:8118', '91.195.162.178:8080', '176.119.134.71:23500', '46.151.108.6:30874', '46.101.131.190:8118', '185.37.213.76:30695', '103.216.48.81:8080', '222.124.173.147:53281', '179.184.230.194:46495', '118.172.201.105:36307', '203.190.116.140:56163', '36.67.47.187:51827', '154.66.217.126:40476', '182.53.197.202:45609', '95.158.153.69:49753', '115.74.201.137:42108', '36.67.85.218:55021', '182.160.117.130:53281', '45.125.222.97:30569', '93.179.209.216:57520', '103.36.124.121:54803', '36.89.183.241:43219', '103.80.238.199:53281', '139.255.87.236:41882', '41.217.216.45:33602', '1.10.187.149:44976', '79.78.184.12:56834', '176.111.180.209:54237', '103.53.72.20:53749', '201.48.226.249:41846', '124.41.240.171:42190', '103.18.79.246:8080', '203.153.20.64:53281', '103.209.65.12:6666', '212.3.208.252:30091', '45.235.87.4:51996', '189.5.248.83:3128', '190.7.141.66:56146', '83.171.99.160:57659', '90.183.101.238:43511', '195.182.22.178:45063', '182.52.238.111:30098', '125.25.165.106:43730', '46.52.213.194:61976', '138.204.23.66:53281', '77.242.16.26:53281', '177.125.20.35:40744', '103.122.90.182:53281', '92.249.122.108:61778', '94.232.126.225:32836', '119.82.252.76:60597', '168.194.14.126:8080', '180.249.1.67:8080', '110.78.143.198:53281', '35.193.184.191:80', '123.30.155.6:3128', '80.59.199.213:8080', '203.130.22.19:3128', '128.71.210.91:8080', '151.232.72.15:80', '189.57.62.146:80', '190.151.94.3:46615', '207.148.100.132:8080', '103.22.248.59:61661', '103.130.114.90:46561', '151.232.72.13:80', '115.87.110.25:8118', '144.217.163.138:8080', '179.43.81.135:80', '94.228.82.170:34956', '45.79.159.216:3128', '124.122.179.132:8118', '202.179.7.182:56506', '36.89.189.77:44658', '114.6.87.177:60811', '181.211.167.206:37873', '151.253.92.173:8080', '119.252.168.52:53281', '78.60.203.75:37068', '118.97.235.234:8080', '43.252.73.99:53557', '103.23.103.203:32806', '150.242.35.225:53281', '103.197.48.98:8080', '185.198.184.14:48122', '151.253.158.20:8080', '132.255.92.34:53281', '180.250.197.188:38216', '117.206.83.46:39884', '103.83.205.57:33759', '151.253.165.70:8080', '202.158.49.138:56687', '78.62.214.242:60678', '43.225.192.225:50878', '59.152.13.10:55340', '119.252.168.53:53281', '87.247.19.126:53353', '91.135.194.22:50172', '138.204.117.191:53059']\n"
     ]
    }
   ],
   "source": [
    "proxy_ips = []\n",
    "\n",
    "# 對 https://free-proxy-list.net/ 發送請求，並從表格中整理出免費的代理伺服器\n",
    "\n",
    "headers = {'User-Agent': 'Mozilla/5.0 (Macintosh; Intel Mac OS X 10_11_5) AppleWebKit/537.36 (KHTML, like Gecko) Cafari/537.36'}\n",
    "url = 'https://free-proxy-list.net/'\n",
    "response = requests.get(url, headers=headers)\n",
    "soup = BeautifulSoup(response.text, 'lxml')\n",
    "\n",
    "for tr in soup.find('tbody').find_all('tr')[:100]:\n",
    "    proxy = tr.find_all('td')[0].text + ':' + tr.find_all('td')[1].text\n",
    "    proxy_ips.append(proxy)\n",
    "    \n",
    "print(proxy_ips)"
   ]
  },
  {
   "cell_type": "code",
   "execution_count": 3,
   "metadata": {
    "colab": {},
    "colab_type": "code",
    "id": "sXotLl8mVkg9"
   },
   "outputs": [
    {
     "name": "stdout",
     "output_type": "stream",
     "text": [
      "Use 201.76.11.140:31181\n",
      "Fail\n",
      "Use 5.39.101.15:8118\n",
      "Fail\n",
      "Use 91.195.162.178:8080\n",
      "Your IP address: 91.195.162.178\n",
      "Use 176.119.134.71:23500\n",
      "Fail\n",
      "Use 46.151.108.6:30874\n",
      "Fail\n",
      "Use 46.101.131.190:8118\n",
      "Fail\n",
      "Use 185.37.213.76:30695\n",
      "Your IP address: 185.37.213.76\n",
      "Use 103.216.48.81:8080\n",
      "Fail\n",
      "Use 222.124.173.147:53281\n",
      "Fail\n",
      "Use 179.184.230.194:46495\n",
      "Fail\n",
      "Use 118.172.201.105:36307\n",
      "Fail\n",
      "Use 203.190.116.140:56163\n",
      "Your IP address: 203.190.116.140\n",
      "Use 36.67.47.187:51827\n",
      "Fail\n",
      "Use 154.66.217.126:40476\n",
      "Fail\n",
      "Use 182.53.197.202:45609\n",
      "Fail\n",
      "Use 95.158.153.69:49753\n",
      "Your IP address: 95.158.153.69\n",
      "Use 115.74.201.137:42108\n",
      "Fail\n",
      "Use 36.67.85.218:55021\n",
      "Fail\n",
      "Use 182.160.117.130:53281\n",
      "Fail\n",
      "Use 45.125.222.97:30569\n",
      "Fail\n",
      "Use 93.179.209.216:57520\n",
      "Your IP address: 93.179.209.210\n",
      "Use 103.36.124.121:54803\n",
      "Fail\n",
      "Use 36.89.183.241:43219\n",
      "Fail\n",
      "Use 103.80.238.199:53281\n",
      "Fail\n",
      "Use 139.255.87.236:41882\n",
      "Fail\n",
      "Use 41.217.216.45:33602\n",
      "Your IP address: 41.217.216.45\n",
      "['91.195.162.178:8080', '185.37.213.76:30695', '203.190.116.140:56163', '95.158.153.69:49753', '93.179.209.216:57520', '41.217.216.45:33602']\n"
     ]
    }
   ],
   "source": [
    "# 將免費的代理伺服器，發送至 http://ip.filefab.com/index.php 找出可用的代理伺服器\n",
    "\n",
    "available_proxies = []\n",
    "\n",
    "for i in range(100):\n",
    "    ip = proxy_ips[i]\n",
    "    print('Use', ip)\n",
    "    try:\n",
    "        resp = requests.get('http://ip.filefab.com/index.php',\n",
    "                        proxies={'http': ip, 'https': ip}, timeout=10)\n",
    "        soup = BeautifulSoup(resp.text, 'html5lib')\n",
    "        print(soup.find('h1', id='ipd').text.strip())\n",
    "        available_proxies.append(ip)\n",
    "        if len(available_proxies) > 5:\n",
    "            break\n",
    "    except:\n",
    "        print('Fail')\n",
    "    \n",
    "print(available_proxies)"
   ]
  },
  {
   "cell_type": "code",
   "execution_count": 13,
   "metadata": {},
   "outputs": [
    {
     "name": "stdout",
     "output_type": "stream",
     "text": [
      "Use 91.195.162.178:8080\n",
      "{'origin': '91.195.162.178, 91.195.162.178'}\n",
      "Use 185.37.213.76:30695\n",
      "{'origin': '185.37.213.76, 185.37.213.76'}\n",
      "Use 203.190.116.140:56163\n",
      "Fail\n",
      "Use 95.158.153.69:49753\n",
      "Fail\n",
      "Use 93.179.209.216:57520\n",
      "Fail\n",
      "Use 41.217.216.45:33602\n",
      "Fail\n",
      "Use 91.195.162.178:8080\n",
      "{'origin': '91.195.162.178, 91.195.162.178'}\n"
     ]
    }
   ],
   "source": [
    "# 將前面找出的可用代理伺服器，再發送至 https://httpbin.org/ip 查看是否代理（偷換 IP）成功\n",
    "\n",
    "for ip in available_proxies:\n",
    "    print('Use', ip)\n",
    "    try:\n",
    "        resp = requests.get('https://httpbin.org/ip',\n",
    "                        proxies={'http': ip, 'https': ip}, timeout=10)\n",
    "        print(resp.json())\n",
    "    except:\n",
    "        print('Fail')"
   ]
  },
  {
   "cell_type": "code",
   "execution_count": null,
   "metadata": {},
   "outputs": [],
   "source": []
  }
 ],
 "metadata": {
  "colab": {
   "name": "homework.solution.ipynb",
   "provenance": []
  },
  "kernelspec": {
   "display_name": "Python 3",
   "language": "python",
   "name": "python3"
  },
  "language_info": {
   "codemirror_mode": {
    "name": "ipython",
    "version": 3
   },
   "file_extension": ".py",
   "mimetype": "text/x-python",
   "name": "python",
   "nbconvert_exporter": "python",
   "pygments_lexer": "ipython3",
   "version": "3.6.5"
  }
 },
 "nbformat": 4,
 "nbformat_minor": 1
}
